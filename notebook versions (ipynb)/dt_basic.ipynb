{
  "nbformat": 4,
  "nbformat_minor": 0,
  "metadata": {
    "colab": {
      "provenance": [],
      "collapsed_sections": [
        "_qk4nw6WRZGt",
        "6JNu68dyAfIn"
      ]
    },
    "kernelspec": {
      "name": "python3",
      "display_name": "Python 3"
    },
    "language_info": {
      "name": "python"
    }
  },
  "cells": [
    {
      "cell_type": "code",
      "execution_count": null,
      "metadata": {
        "id": "LH5lwkre7RjR"
      },
      "outputs": [],
      "source": [
        "!pip install --upgrade scikit-learn\n",
        "import sklearn\n",
        "print(sklearn.__version__)"
      ]
    },
    {
      "cell_type": "code",
      "source": [
        "import pandas as pd\n",
        "import numpy as np\n",
        "import matplotlib.pyplot as plt\n",
        "\n",
        "import seaborn as sns\n",
        "\n",
        "from sklearn.model_selection import train_test_split\n",
        "from sklearn.tree import DecisionTreeRegressor\n",
        "from sklearn.metrics import mean_squared_log_error\n",
        "\n",
        "import pickle"
      ],
      "metadata": {
        "id": "-Z8ng-_35lcw"
      },
      "execution_count": null,
      "outputs": []
    },
    {
      "cell_type": "code",
      "source": [
        "from google.colab import drive\n",
        "\n",
        "#drive.flush_and_unmount()\n",
        "\n",
        "drive.mount('/content/drive')"
      ],
      "metadata": {
        "id": "PAjnpeKm-dmb"
      },
      "execution_count": null,
      "outputs": []
    },
    {
      "cell_type": "code",
      "source": [
        "train = pd.read_csv('/content/drive/My Drive/Colab Notebooks/Abalone Prediction/Dataset/train.csv')\n",
        "\n",
        "test = pd.read_csv('/content/drive/My Drive/Colab Notebooks/Abalone Prediction/Dataset/test.csv')"
      ],
      "metadata": {
        "id": "_OMZJvVn-eSQ"
      },
      "execution_count": null,
      "outputs": []
    },
    {
      "cell_type": "code",
      "source": [
        "train.head()"
      ],
      "metadata": {
        "id": "XGOc_91q-gF4"
      },
      "execution_count": null,
      "outputs": []
    },
    {
      "cell_type": "code",
      "source": [
        "train.dtypes"
      ],
      "metadata": {
        "id": "f-ldwgRu-iHe"
      },
      "execution_count": null,
      "outputs": []
    },
    {
      "cell_type": "code",
      "source": [
        "null_values = train.isnull().sum()\n",
        "print(null_values)"
      ],
      "metadata": {
        "id": "1mx4y7N0_fdH"
      },
      "execution_count": null,
      "outputs": []
    },
    {
      "cell_type": "markdown",
      "source": [
        "#preprocessing\n"
      ],
      "metadata": {
        "id": "s8oMDdBI-yVS"
      }
    },
    {
      "cell_type": "code",
      "source": [
        "\n",
        "def preprocess(df):\n",
        "\n",
        "    return df.assign(Sex=df['Sex'].map({'M': 1, 'F': 2, 'I': 0}))\n",
        "\n",
        "\n",
        "train_encoded = preprocess(train)\n",
        "test_encoded = preprocess(test)"
      ],
      "metadata": {
        "id": "qXbqE4Ai-lDv"
      },
      "execution_count": null,
      "outputs": []
    },
    {
      "cell_type": "code",
      "source": [
        "train_encoded.head()"
      ],
      "metadata": {
        "id": "588QJv4b_BKd"
      },
      "execution_count": null,
      "outputs": []
    },
    {
      "cell_type": "code",
      "source": [
        "train_encoded.to_csv('/content/drive/My Drive/Colab Notebooks/Abalone Prediction/Dataset/Encoded dataset/train_encoded.csv', index=False);\n",
        "test_encoded.to_csv('/content/drive/My Drive/Colab Notebooks/Abalone Prediction/Dataset/Encoded dataset/test_encoded.csv', index=False);"
      ],
      "metadata": {
        "id": "nH4XMe7v_B7L"
      },
      "execution_count": null,
      "outputs": []
    },
    {
      "cell_type": "markdown",
      "source": [
        "Importing preprocessed dataset"
      ],
      "metadata": {
        "id": "-vAaWh3G_kKR"
      }
    },
    {
      "cell_type": "code",
      "source": [
        "\n",
        "train_encoded = pd.read_csv('/content/drive/My Drive/Colab Notebooks/Abalone Prediction/Dataset/Encoded dataset/train_encoded.csv')\n",
        "test_encoded = pd.read_csv('/content/drive/My Drive/Colab Notebooks/Abalone Prediction/Dataset/Encoded dataset/test_encoded.csv')\n"
      ],
      "metadata": {
        "id": "J6-8Fm8L_FzC"
      },
      "execution_count": null,
      "outputs": []
    },
    {
      "cell_type": "markdown",
      "source": [
        "#Descriptive statistics"
      ],
      "metadata": {
        "id": "_qk4nw6WRZGt"
      }
    },
    {
      "cell_type": "code",
      "source": [
        "\n",
        "summary_stats = train_encoded.describe()\n",
        "\n",
        "print(summary_stats)"
      ],
      "metadata": {
        "id": "eJ125PsQ_u7R"
      },
      "execution_count": null,
      "outputs": []
    },
    {
      "cell_type": "markdown",
      "source": [
        "Correlation analysis"
      ],
      "metadata": {
        "id": "muyisxtd_8a6"
      }
    },
    {
      "cell_type": "code",
      "source": [
        "\n",
        "correlation_matrix = train_encoded.corr()\n",
        "print(correlation_matrix)\n"
      ],
      "metadata": {
        "id": "pxOEs7UF_2MR"
      },
      "execution_count": null,
      "outputs": []
    },
    {
      "cell_type": "code",
      "source": [
        "plt.figure(figsize=(12, 8))\n",
        "\n",
        "sns.heatmap(correlation_matrix, annot=True, cmap='coolwarm', fmt='.2f')\n",
        "\n",
        "plt.show()"
      ],
      "metadata": {
        "id": "dk-Tzu6RAnoT"
      },
      "execution_count": null,
      "outputs": []
    },
    {
      "cell_type": "markdown",
      "source": [
        "#Visualizations"
      ],
      "metadata": {
        "id": "6JNu68dyAfIn"
      }
    },
    {
      "cell_type": "code",
      "source": [
        "sns.histplot(train_encoded['Rings'], kde=True)\n",
        "plt.title('Distribution frequency of rings')\n",
        "plt.xlabel('Rings')\n",
        "plt.ylabel('Frequency')\n",
        "plt.show()\n"
      ],
      "metadata": {
        "id": "BOIT669mATHP"
      },
      "execution_count": null,
      "outputs": []
    },
    {
      "cell_type": "code",
      "source": [
        "sns.boxplot(data=train_encoded[['Height', 'Length', 'Diameter', 'Whole weight', 'Shell weight']])\n",
        "plt.title('Box plot on physical measurements')\n",
        "plt.show()"
      ],
      "metadata": {
        "id": "xBGXOom5A1GQ"
      },
      "execution_count": null,
      "outputs": []
    },
    {
      "cell_type": "code",
      "source": [
        "sns.countplot(x='Sex', data=train_encoded)\n",
        "plt.title('Sex distribution')\n",
        "plt.xlabel('Sex')\n",
        "plt.ylabel('Count')\n",
        "plt.show()\n"
      ],
      "metadata": {
        "id": "Vp1IUzTWA3eH"
      },
      "execution_count": null,
      "outputs": []
    },
    {
      "cell_type": "code",
      "source": [
        "\n",
        "plt.scatter(train_encoded['Length'], train_encoded['Rings'], alpha=0.5)\n",
        "plt.title('Length vs. Rings')\n",
        "plt.xlabel('Length')\n",
        "plt.ylabel('Rings')\n",
        "plt.show()\n"
      ],
      "metadata": {
        "id": "gOvAOPM-BCVX"
      },
      "execution_count": null,
      "outputs": []
    },
    {
      "cell_type": "code",
      "source": [
        "\n",
        "sns.violinplot(x='Sex', y='Rings', data=train_encoded)\n",
        "plt.title('Rings distribution by sex category')\n",
        "plt.show()"
      ],
      "metadata": {
        "id": "_PA7YO5uBHPJ"
      },
      "execution_count": null,
      "outputs": []
    },
    {
      "cell_type": "code",
      "source": [
        "\n",
        "\n",
        "fig, axs = plt.subplots(2, 2, figsize=(12, 10))\n",
        "sns.histplot(train_encoded['Whole weight'], kde=True, ax=axs[0, 0])\n",
        "sns.histplot(train_encoded['Whole weight.1'], kde=True, ax=axs[0, 1])\n",
        "sns.histplot(train_encoded['Whole weight.2'], kde=True, ax=axs[1, 0])\n",
        "sns.histplot(train_encoded['Shell weight'], kde=True, ax=axs[1, 1])\n",
        "plt.show()\n"
      ],
      "metadata": {
        "id": "vkL2ySjHBKQt"
      },
      "execution_count": null,
      "outputs": []
    },
    {
      "cell_type": "markdown",
      "source": [
        "#Modelling"
      ],
      "metadata": {
        "id": "ctnLhxCcBfZG"
      }
    },
    {
      "cell_type": "code",
      "source": [
        "\n",
        "X_train = train_encoded.drop(columns=['id', 'Rings'])\n",
        "y_train = train_encoded['Rings']\n"
      ],
      "metadata": {
        "id": "KmKqAIERBej_"
      },
      "execution_count": null,
      "outputs": []
    },
    {
      "cell_type": "code",
      "source": [
        "\n",
        "decision_tree = DecisionTreeRegressor(random_state=42)\n",
        "\n",
        "\n",
        "decision_tree.fit(X_train, y_train)"
      ],
      "metadata": {
        "id": "KP5Vex4XBwVu"
      },
      "execution_count": null,
      "outputs": []
    },
    {
      "cell_type": "code",
      "source": [
        "\n",
        "train_predictions = decision_tree.predict(X_train)\n",
        "rmsle_train = mean_squared_log_error(y_train, train_predictions, squared=False)\n",
        "\n",
        "print(f'RMSLE on training data: {rmsle_train}')"
      ],
      "metadata": {
        "id": "Ru3bDMUCB8HJ"
      },
      "execution_count": null,
      "outputs": []
    },
    {
      "cell_type": "code",
      "source": [
        "\n",
        "X_test = test_encoded.drop(columns=['id'])\n",
        "test_predictions = decision_tree.predict(X_test)\n"
      ],
      "metadata": {
        "id": "vJSXaNWpCGcV"
      },
      "execution_count": null,
      "outputs": []
    },
    {
      "cell_type": "markdown",
      "source": [
        "#Exporting"
      ],
      "metadata": {
        "id": "hN2AQuC8Cbzl"
      }
    },
    {
      "cell_type": "code",
      "source": [
        "\n",
        "submission = pd.DataFrame({\n",
        "    'id': test_encoded['id'],\n",
        "    'Rings': test_predictions\n",
        "})\n",
        "\n",
        "\n",
        "submission.to_csv('/content/drive/My Drive/Colab Notebooks/Abalone Prediction/Submissions/dt_basic.csv', index=False)\n",
        "\n",
        "print('Submission file created: dt_basic.csv')"
      ],
      "metadata": {
        "id": "uIRz9REUCNNd"
      },
      "execution_count": null,
      "outputs": []
    },
    {
      "cell_type": "code",
      "source": [
        "\n",
        "with open('/content/drive/My Drive/Colab Notebooks/Abalone Prediction/Pickle/dt_basic.pkl', 'wb') as file:\n",
        "    pickle.dump(decision_tree, file)\n",
        "\n",
        "print('Model saved as: dt_basic.pkl')"
      ],
      "metadata": {
        "id": "J7-g-6VhCOF2"
      },
      "execution_count": null,
      "outputs": []
    },
    {
      "cell_type": "code",
      "source": [],
      "metadata": {
        "id": "LNHLpJCQSryG"
      },
      "execution_count": null,
      "outputs": []
    }
  ]
}