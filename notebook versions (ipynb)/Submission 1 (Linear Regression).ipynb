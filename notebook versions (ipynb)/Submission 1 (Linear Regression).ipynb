{
  "nbformat": 4,
  "nbformat_minor": 0,
  "metadata": {
    "colab": {
      "provenance": []
    },
    "kernelspec": {
      "name": "python3",
      "display_name": "Python 3"
    },
    "language_info": {
      "name": "python"
    }
  },
  "cells": [
    {
      "cell_type": "code",
      "execution_count": null,
      "metadata": {
        "id": "4SrXBGRHIVLx"
      },
      "outputs": [],
      "source": [
        "import pandas as pd\n",
        "import numpy as np\n",
        "\n",
        "from sklearn.linear_model import LinearRegression\n",
        "from sklearn.model_selection import train_test_split\n",
        "\n",
        "from sklearn.metrics import mean_squared_log_error"
      ]
    },
    {
      "cell_type": "code",
      "source": [
        "from google.colab import drive\n",
        "\n",
        "#drive.flush_and_unmount()\n",
        "\n",
        "drive.mount('/content/drive')"
      ],
      "metadata": {
        "id": "F0mdLMXdKQWa"
      },
      "execution_count": null,
      "outputs": []
    },
    {
      "cell_type": "code",
      "source": [
        "\n",
        "train = pd.read_csv('/content/drive/My Drive/Colab Notebooks/Abalone Prediction/Dataset/train.csv')\n",
        "test = pd.read_csv('/content/drive/My Drive/Colab Notebooks/Abalone Prediction/Dataset/test.csv')\n"
      ],
      "metadata": {
        "id": "zUkqYPqJJbvh"
      },
      "execution_count": null,
      "outputs": []
    },
    {
      "cell_type": "code",
      "source": [
        "train.head()"
      ],
      "metadata": {
        "id": "5phRUH1Xi1se"
      },
      "execution_count": null,
      "outputs": []
    },
    {
      "cell_type": "code",
      "source": [
        "train.dtypes"
      ],
      "metadata": {
        "id": "p7-0sR38facf"
      },
      "execution_count": null,
      "outputs": []
    },
    {
      "cell_type": "markdown",
      "source": [
        "#preprocessing\n"
      ],
      "metadata": {
        "id": "z7NhXh4inV9J"
      }
    },
    {
      "cell_type": "code",
      "source": [
        "\n",
        "duplicate_columns = ['Whole weight.1', 'Whole weight.2']\n",
        "\n",
        "#(drop columns & encode)\n",
        "def preprocess(df):\n",
        "\n",
        "    cols_to_drop = [col for col in duplicate_columns if col in df.columns]\n",
        "    cleaned = df.drop(columns=cols_to_drop)\n",
        "\n",
        "    cleaned['Sex'] = cleaned['Sex'].map({'M': 1, 'F': 2, 'I': 0})\n",
        "\n",
        "    return cleaned\n",
        "\n",
        "\n",
        "train_cleaned = preprocess(train)\n",
        "test_cleaned = preprocess(test)\n"
      ],
      "metadata": {
        "id": "Rqe7TxPpJfcP"
      },
      "execution_count": null,
      "outputs": []
    },
    {
      "cell_type": "code",
      "source": [
        "train_cleaned.head()"
      ],
      "metadata": {
        "id": "j4_e29RGKfz-"
      },
      "execution_count": null,
      "outputs": []
    },
    {
      "cell_type": "code",
      "source": [
        "\n",
        "train_cleaned.to_csv('/content/drive/My Drive/Colab Notebooks/Abalone Prediction/Dataset/Cleaned dataset/cleaned_train.csv', index=False);\n",
        "test_cleaned.to_csv('/content/drive/My Drive/Colab Notebooks/Abalone Prediction/Dataset/Cleaned dataset/cleaned_test.csv', index=False);\n"
      ],
      "metadata": {
        "id": "qc1IbWXXjOTh"
      },
      "execution_count": null,
      "outputs": []
    },
    {
      "cell_type": "markdown",
      "source": [
        "#Modelling"
      ],
      "metadata": {
        "id": "zDFP6X3Mnmlg"
      }
    },
    {
      "cell_type": "code",
      "source": [
        "\n",
        "\n",
        "features = ['Sex', 'Length', 'Diameter', 'Height', 'Whole weight', 'Shell weight']\n",
        "target = 'Rings'\n",
        "\n",
        "X_train = train_cleaned[features]\n",
        "y_train = train_cleaned[target]\n",
        "\n",
        "X_test = test_cleaned[features]"
      ],
      "metadata": {
        "id": "20_VfS8KuWUG"
      },
      "execution_count": null,
      "outputs": []
    },
    {
      "cell_type": "code",
      "source": [
        "\n",
        "\n",
        "model = LinearRegression()\n",
        "model.fit(X_train, y_train)\n"
      ],
      "metadata": {
        "id": "eTNGfqvNuZUF"
      },
      "execution_count": null,
      "outputs": []
    },
    {
      "cell_type": "code",
      "source": [
        "train_predictions = model.predict(X_train)\n",
        "rmsle_train = mean_squared_log_error(y_train, train_predictions, squared=False)\n",
        "\n",
        "print(f'RMSLE on training data: {rmsle_train}')"
      ],
      "metadata": {
        "id": "UsPfZPcpFqbM"
      },
      "execution_count": null,
      "outputs": []
    },
    {
      "cell_type": "code",
      "source": [
        "\n",
        "\n",
        "y_test_pred = model.predict(X_test)\n",
        "y_test_pred_adjusted = np.maximum(0, y_test_pred) # ensure non-negative predictions"
      ],
      "metadata": {
        "id": "fMtKpCuWJnEP"
      },
      "execution_count": null,
      "outputs": []
    },
    {
      "cell_type": "code",
      "source": [
        "\n",
        "\n",
        "submission = pd.DataFrame({\n",
        "    'id': test_cleaned['id'],\n",
        "    'Rings': y_test_pred_adjusted\n",
        "})\n",
        "\n",
        "submission.to_csv('/content/drive/My Drive/Colab Notebooks/Abalone Prediction/Submissions/submission1.csv', index=False)\n",
        "\n",
        "print(f'Submission file saved to location')"
      ],
      "metadata": {
        "id": "9otmtNynMh40"
      },
      "execution_count": null,
      "outputs": []
    },
    {
      "cell_type": "code",
      "source": [],
      "metadata": {
        "id": "9z5J77lG3ECb"
      },
      "execution_count": null,
      "outputs": []
    }
  ]
}